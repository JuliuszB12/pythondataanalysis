{
 "cells": [
  {
   "cell_type": "code",
   "execution_count": 1,
   "id": "2a0fe3ee",
   "metadata": {},
   "outputs": [
    {
     "data": {
      "text/plain": [
       "{'__confluent.support.metrics',\n",
       " '_schemas',\n",
       " 'connect-status',\n",
       " 'connect_configs',\n",
       " 'connect_offsets',\n",
       " 'source.public.dimproductcategory',\n",
       " 'source.public.factinternetsales',\n",
       " 'source.public.products',\n",
       " 'source.public.src_dimproductcategory'}"
      ]
     },
     "execution_count": 1,
     "metadata": {},
     "output_type": "execute_result"
    }
   ],
   "source": [
    "from kafka import KafkaConsumer\n",
    "bootstrap_servers = ['localhost:29092']\n",
    "consumer = KafkaConsumer( bootstrap_servers=bootstrap_servers)\n",
    "consumer.topics()"
   ]
  },
  {
   "cell_type": "code",
   "execution_count": null,
   "id": "ed699aa6",
   "metadata": {},
   "outputs": [],
   "source": [
    "\n",
    "topicName = 'source.public.factinternetsales'\n",
    "# Initialize consumer variable\n",
    "consumer = KafkaConsumer (topicName , auto_offset_reset='earliest', \n",
    "                          bootstrap_servers = bootstrap_servers, group_id='sales-transactions')\n",
    "\n",
    "# Read and print message from consumer\n",
    "for msg in consumer:\n",
    "    print(json.loads(msg.value))\n",
    "    record = json.loads(msg.value)\n",
   ]
  }
 ],
 "metadata": {
  "kernelspec": {
   "display_name": "Python 3 (ipykernel)",
   "language": "python",
   "name": "python3"
  },
  "language_info": {
   "codemirror_mode": {
    "name": "ipython",
    "version": 3
   },
   "file_extension": ".py",
   "mimetype": "text/x-python",
   "name": "python",
   "nbconvert_exporter": "python",
   "pygments_lexer": "ipython3",
   "version": "3.9.13"
  }
 },
 "nbformat": 4,
 "nbformat_minor": 5
}
